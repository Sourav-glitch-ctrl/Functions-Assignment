{
  "nbformat": 4,
  "nbformat_minor": 0,
  "metadata": {
    "colab": {
      "provenance": []
    },
    "kernelspec": {
      "name": "python3",
      "display_name": "Python 3"
    },
    "language_info": {
      "name": "python"
    }
  },
  "cells": [
    {
      "cell_type": "markdown",
      "source": [
        "#FUNCTIONS ASSIGNMENT\n",
        "##Theoretical Questions\n",
        "\n",
        "\n",
        "1. What is the difference between a function and a method in Python?\n",
        "- Function: A Function is a Block of Code which can be reused whenever we want to.\n",
        "- Method- A function that is associated with an object and called using the dot (.) operator.\n",
        "\n",
        "\n",
        "\n",
        "\n",
        "\n",
        "\n",
        "\n"
      ],
      "metadata": {
        "id": "4c0SP5ONOvuN"
      }
    },
    {
      "cell_type": "code",
      "source": [
        "#1. Example:\n",
        "# Function\n",
        "def greet(name):\n",
        "    return f\"Hello, {name}!\"\n",
        "\n",
        "print(greet(\"Sourav\"))\n",
        "\n",
        "# Method\n",
        "text = \"python\"\n",
        "print(text.upper())\n",
        "\n"
      ],
      "metadata": {
        "colab": {
          "base_uri": "https://localhost:8080/"
        },
        "id": "xhqvss0qm36j",
        "outputId": "42dadc1e-9c63-4f92-f82a-6b7f6e313051"
      },
      "execution_count": 77,
      "outputs": [
        {
          "output_type": "stream",
          "name": "stdout",
          "text": [
            "Hello, Sourav!\n",
            "PYTHON\n"
          ]
        }
      ]
    },
    {
      "cell_type": "markdown",
      "source": [
        "2. Explain the concept of function arguments and parameters in Python.\n",
        "- Parameters: Variables defined inside the function definition.\n",
        "- Arguments: Values you pass in place of parameters when calling the function."
      ],
      "metadata": {
        "id": "XwfiyZqnnFxo"
      }
    },
    {
      "cell_type": "code",
      "source": [
        "#2. Example:\n",
        "def add(a, b):  # here a, b → parameters\n",
        "    return a + b\n",
        "\n",
        "print(add(5, 3))  # here 5, 3 → arguments\n"
      ],
      "metadata": {
        "colab": {
          "base_uri": "https://localhost:8080/"
        },
        "id": "M7X45QVDnjmU",
        "outputId": "2d0af18e-30a1-4c82-a341-5e39f2415b86"
      },
      "execution_count": 78,
      "outputs": [
        {
          "output_type": "stream",
          "name": "stdout",
          "text": [
            "8\n"
          ]
        }
      ]
    },
    {
      "cell_type": "markdown",
      "source": [
        "3. What are the different ways to define and call a function in Python?\n",
        "- The different ways to call a function is that we can use \"def\" or \"lambda\" while defining and calling it."
      ],
      "metadata": {
        "id": "5NJR3t1lnHCH"
      }
    },
    {
      "cell_type": "code",
      "source": [
        "#3. Example\n",
        "def squar_num(x):\n",
        "  return x**2\n",
        "\n",
        "print(squar_num(4))\n",
        "\n",
        "\n",
        "squar = lambda x: x*x\n",
        "print(squar(4))"
      ],
      "metadata": {
        "colab": {
          "base_uri": "https://localhost:8080/"
        },
        "id": "u_Pg8DkqotwK",
        "outputId": "83f47318-47f5-474d-c0b6-c6003bafdf5b"
      },
      "execution_count": 83,
      "outputs": [
        {
          "output_type": "stream",
          "name": "stdout",
          "text": [
            "16\n",
            "16\n"
          ]
        }
      ]
    },
    {
      "cell_type": "markdown",
      "source": [
        "4. What is the purpose of the `return` statement in a Python function?\n",
        "- The Purpose of using return statement is its sends a value back to caller and exits."
      ],
      "metadata": {
        "id": "nrE4Dz7hnHN1"
      }
    },
    {
      "cell_type": "code",
      "source": [
        "#4. Example\n",
        "def squar_num(x):\n",
        "  return x**2\n",
        "squar_num(4)"
      ],
      "metadata": {
        "colab": {
          "base_uri": "https://localhost:8080/"
        },
        "id": "nnQsL2dwp5p4",
        "outputId": "cf013aee-1f00-4a11-e885-7b552da77505"
      },
      "execution_count": 85,
      "outputs": [
        {
          "output_type": "execute_result",
          "data": {
            "text/plain": [
              "16"
            ]
          },
          "metadata": {},
          "execution_count": 85
        }
      ]
    },
    {
      "cell_type": "markdown",
      "source": [
        "5. What are iterators in Python and how do they differ from iterables?\n",
        "- Iterable: An object that can be looped over (e.g., list, string).\n",
        "- Iterator: An object created using iter() that produces items one at a time using next().\n"
      ],
      "metadata": {
        "id": "xw4tY0GonHRk"
      }
    },
    {
      "cell_type": "code",
      "source": [
        "#5. Example:\n",
        "numbers = [1, 2, 3]  # iterable\n",
        "it = iter(numbers)   # iterator\n",
        "\n",
        "print(next(it))\n",
        "print(next(it))\n"
      ],
      "metadata": {
        "colab": {
          "base_uri": "https://localhost:8080/"
        },
        "id": "m-yNLhZ9qdm2",
        "outputId": "79ed5363-77ad-4bcb-bcf6-df110711e3db"
      },
      "execution_count": 86,
      "outputs": [
        {
          "output_type": "stream",
          "name": "stdout",
          "text": [
            "1\n",
            "2\n"
          ]
        }
      ]
    },
    {
      "cell_type": "markdown",
      "source": [
        "6. Explain the concept of generators in Python and how they are defined.\n",
        "- Generators: Special functions that use yield instead of return. They produce values one at a time, saving memory.\n"
      ],
      "metadata": {
        "id": "m43u291rqkF_"
      }
    },
    {
      "cell_type": "code",
      "source": [
        "#6. Example\n",
        "def countdown(n):\n",
        "    while  n > 0:\n",
        "        yield n\n",
        "        n -= 1\n",
        "\n",
        "for num in countdown(3):\n",
        "    print(num)\n"
      ],
      "metadata": {
        "colab": {
          "base_uri": "https://localhost:8080/"
        },
        "id": "2aE-DLCnvZGZ",
        "outputId": "05363f0f-4292-4bd4-c64d-a985f9291ad4"
      },
      "execution_count": 89,
      "outputs": [
        {
          "output_type": "stream",
          "name": "stdout",
          "text": [
            "3\n",
            "2\n",
            "1\n"
          ]
        }
      ]
    },
    {
      "cell_type": "markdown",
      "source": [
        "7. What are the advantages of using generators over regular functions?\n",
        "- Memory efficient (don’t store all values in memory).\n",
        "Useful for working with large data streams."
      ],
      "metadata": {
        "id": "8smaoBjsqkKr"
      }
    },
    {
      "cell_type": "code",
      "source": [
        "#7. Example\n",
        "\n",
        "def squares_list(n):\n",
        "    return [i*i for i in range(n)]\n",
        "\n",
        "def squares_gen(n):\n",
        "    for i in range(n):\n",
        "        yield i*i\n",
        "\n",
        "print(list(squares_gen(5)))\n"
      ],
      "metadata": {
        "colab": {
          "base_uri": "https://localhost:8080/"
        },
        "id": "jBZV4JF9wHJZ",
        "outputId": "77ebd316-9927-47e4-866e-89c1d571ce26"
      },
      "execution_count": 90,
      "outputs": [
        {
          "output_type": "stream",
          "name": "stdout",
          "text": [
            "[0, 1, 4, 9, 16]\n"
          ]
        }
      ]
    },
    {
      "cell_type": "markdown",
      "source": [
        "8. What is a lambda function in Python and when is it typically used?\n",
        "- A lambda function is a small anonymous function (no name) written in one line.\n",
        "Used when you need a short function temporarily."
      ],
      "metadata": {
        "id": "U9Eb4GaAqkOa"
      }
    },
    {
      "cell_type": "code",
      "source": [
        "#8. Example\n",
        "double = lambda x: x * 2\n",
        "print(double(5))\n",
        "\n",
        "nums = [1, 2, 3, 4]\n",
        "print(list(map(lambda x: x*x, nums)))\n"
      ],
      "metadata": {
        "colab": {
          "base_uri": "https://localhost:8080/"
        },
        "id": "l-aRA7OJwrcR",
        "outputId": "110abd5b-e0bf-4ec0-dd2b-f6c557b47042"
      },
      "execution_count": 91,
      "outputs": [
        {
          "output_type": "stream",
          "name": "stdout",
          "text": [
            "10\n",
            "[1, 4, 9, 16]\n"
          ]
        }
      ]
    },
    {
      "cell_type": "markdown",
      "source": [
        "9. Explain the purpose and usage of the map() function in Python.\n",
        "- map(function, iterable) applies a function to every element of an iterable."
      ],
      "metadata": {
        "id": "W9a48lnIqkRz"
      }
    },
    {
      "cell_type": "code",
      "source": [
        "#9. Example\n",
        "nums = [1, 2, 3, 4]\n",
        "squares = map(lambda x: x**2, nums)\n",
        "print(list(squares))\n"
      ],
      "metadata": {
        "colab": {
          "base_uri": "https://localhost:8080/"
        },
        "id": "pahK2a1pxsnT",
        "outputId": "72a9ab42-6235-41c5-ee76-325b9899ee0b"
      },
      "execution_count": 92,
      "outputs": [
        {
          "output_type": "stream",
          "name": "stdout",
          "text": [
            "[1, 4, 9, 16]\n"
          ]
        }
      ]
    },
    {
      "cell_type": "markdown",
      "source": [
        "10. What is the difference between map(), reduce(), and filter() functions in Python?\n",
        "- map(): Applies a function to each element of an iterable.\n",
        "- filter(): Selects elements based on a condition (function returns True/False).\n",
        "- reduce(): Applies a function cumulatively to reduce iterable to a single value."
      ],
      "metadata": {
        "id": "3rO2y9Mmx5dc"
      }
    },
    {
      "cell_type": "code",
      "source": [
        "#10. Example\n",
        "from functools import reduce\n",
        "\n",
        "nums = [1, 2, 3, 4]\n",
        "\n",
        "# map()\n",
        "print(list(map(lambda x: x*2, nums)))\n",
        "\n",
        "# filter()\n",
        "print(list(filter(lambda x: x % 2 == 0, nums)))\n",
        "# reduce()\n",
        "print(reduce(lambda x, y: x + y, nums))\n"
      ],
      "metadata": {
        "colab": {
          "base_uri": "https://localhost:8080/"
        },
        "id": "r6iFmKqTx49s",
        "outputId": "869bfb36-65cc-4ab7-a2c8-5363b9fbbb73"
      },
      "execution_count": 93,
      "outputs": [
        {
          "output_type": "stream",
          "name": "stdout",
          "text": [
            "[2, 4, 6, 8]\n",
            "[2, 4]\n",
            "10\n"
          ]
        }
      ]
    },
    {
      "cell_type": "markdown",
      "source": [
        "11.\n",
        "-  ![WhatsApp Image 2025-08-17 at 12.24.13_dfea3b86.jpg](data:image/jpeg;base64,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)"
      ],
      "metadata": {
        "id": "u-rOtWHlzwbj"
      }
    },
    {
      "cell_type": "markdown",
      "source": [
        "## Practical Questions"
      ],
      "metadata": {
        "id": "fPOtjcPCnHVy"
      }
    },
    {
      "cell_type": "code",
      "execution_count": 80,
      "metadata": {
        "colab": {
          "base_uri": "https://localhost:8080/"
        },
        "id": "FcgLuQXDOp6S",
        "outputId": "7889f955-9dce-4932-990a-33245543958b"
      },
      "outputs": [
        {
          "output_type": "stream",
          "name": "stdout",
          "text": [
            "Enter a list:1 2 3 4\n",
            "Sum of all the even Num: 6\n"
          ]
        }
      ],
      "source": [
        "#1. Write a Python function that takes a list of numbers as input and returns the sum of all even numbers in the list\n",
        "def sum_num():\n",
        "  num=list(map(int, input(\"Enter a list:\").split()))\n",
        "  sum_even=0\n",
        "  for i in num:\n",
        "    if i % 2==0:\n",
        "      sum_even += i\n",
        "    elif i %2 !=0:\n",
        "      continue\n",
        "  return sum_even\n",
        "\n",
        "\n",
        "print(\"Sum of all the even Num:\",sum_num())\n"
      ]
    },
    {
      "cell_type": "code",
      "source": [
        "#2. Create a Python function that accepts a string and returns the reverse of that string.\n",
        "\n",
        "def reverse():\n",
        "  String= input(\"Enter a String:\")\n",
        "  return String[::-1]\n",
        "\n",
        "print(\"The Reversed Version is:\",reverse())"
      ],
      "metadata": {
        "colab": {
          "base_uri": "https://localhost:8080/"
        },
        "id": "puRW4MFWSICc",
        "outputId": "5469b30b-cc27-45d3-8311-688534e461cf"
      },
      "execution_count": null,
      "outputs": [
        {
          "output_type": "stream",
          "name": "stdout",
          "text": [
            "Enter a String:Sourav\n",
            "The Reversed Version is: varuoS\n"
          ]
        }
      ]
    },
    {
      "cell_type": "code",
      "source": [
        "#3. Implement a Python function that takes a list of integers and returns a new list containing the squares of each number.\n",
        "\n",
        "def take_a_list():\n",
        "  n=list(map(int, input(\"Enter a List:\").split()))\n",
        "  squared= []\n",
        "  for i in n:\n",
        "    squared.append(i**2)\n",
        "  return squared\n",
        "\n",
        "take_a_list()\n",
        "\n",
        "\n"
      ],
      "metadata": {
        "colab": {
          "base_uri": "https://localhost:8080/"
        },
        "id": "3O1uRZjUSu0D",
        "outputId": "3eb4220e-1b7a-4f7c-ad01-1a77991e7156"
      },
      "execution_count": null,
      "outputs": [
        {
          "name": "stdout",
          "output_type": "stream",
          "text": [
            "Enter a List:1 2 3 4\n"
          ]
        },
        {
          "output_type": "execute_result",
          "data": {
            "text/plain": [
              "[1, 4, 9, 16]"
            ]
          },
          "metadata": {},
          "execution_count": 27
        }
      ]
    },
    {
      "cell_type": "code",
      "source": [
        "#4. Write a Python function that checks if a given number is prime or not from 1 to 200\n",
        "def prime_num(new):\n",
        "\n",
        "  if new<1 or new>200:\n",
        "    print(f'{new} is Outside the range')\n",
        "    return\n",
        "\n",
        "  if new ==2:\n",
        "    print( f\"{new} is a prime number \")\n",
        "    return\n",
        "\n",
        "  for i in range(2, int(new**0.5)+1):\n",
        "    if new % i ==0:\n",
        "      print(f\"{new} is not a prime number \")\n",
        "      return\n",
        "\n",
        "  print(f\"{new} is a prime number \")\n",
        "\n",
        "\n",
        "prime_num(201)\n",
        "prime_num(2)\n",
        "prime_num(17)\n",
        "prime_num(9)\n"
      ],
      "metadata": {
        "colab": {
          "base_uri": "https://localhost:8080/"
        },
        "id": "hY0I0cGOUsP4",
        "outputId": "3920cf91-f489-4720-ab5e-09d1989b4554"
      },
      "execution_count": 5,
      "outputs": [
        {
          "output_type": "stream",
          "name": "stdout",
          "text": [
            "201 is Outside the range\n",
            "2 is a prime number \n",
            "17 is a prime number \n",
            "9 is not a prime number \n"
          ]
        }
      ]
    },
    {
      "cell_type": "code",
      "source": [
        "#5. Create an iterator class in Python that generates the Fibonacci sequence up to a specified number of terms.\n",
        "\n",
        "class Fibonacci:\n",
        "    def __init__(self, n_terms):\n",
        "        self.n_terms = n_terms\n",
        "        self.a, self.b = 0, 1\n",
        "        self.count = 0\n",
        "\n",
        "    def __iter__(self):\n",
        "        return self\n",
        "\n",
        "    def __next__(self):\n",
        "        if self.count >= self.n_terms:\n",
        "            raise StopIteration\n",
        "        value = self.a\n",
        "        self.a, self.b = self.b, self.a + self.b\n",
        "        self.count += 1\n",
        "        return value\n",
        "\n",
        "for num in Fibonacci(10):\n",
        "    print(num, end=\" \")\n"
      ],
      "metadata": {
        "colab": {
          "base_uri": "https://localhost:8080/"
        },
        "id": "tLwU_DMfP3sB",
        "outputId": "d1fc54fb-1656-4610-bd3a-7a959b0b56a9"
      },
      "execution_count": 17,
      "outputs": [
        {
          "output_type": "stream",
          "name": "stdout",
          "text": [
            "0 1 1 2 3 5 8 13 21 34 "
          ]
        }
      ]
    },
    {
      "cell_type": "code",
      "source": [
        "#6. Write a generator function in Python that yields the powers of 2 up to a given exponent.\n",
        "def square(n):\n",
        "  for i in range(n+1):\n",
        "    yield 2**i\n",
        "\n",
        "for i in square(10):\n",
        "  print(i, end=\" \")\n",
        "\n"
      ],
      "metadata": {
        "colab": {
          "base_uri": "https://localhost:8080/"
        },
        "id": "xfcHI3UFTSLy",
        "outputId": "4dc37b90-22db-428d-c145-9b9b80dbfc0f"
      },
      "execution_count": 26,
      "outputs": [
        {
          "output_type": "stream",
          "name": "stdout",
          "text": [
            "1 2 4 8 16 32 64 128 256 512 1024 "
          ]
        }
      ]
    },
    {
      "cell_type": "code",
      "source": [
        "#7. Implement a generator function that reads a file line by line and yields each line as a string.\n",
        "def read_file(filename):\n",
        "    for line in open(filename):\n",
        "        yield line\n",
        "\n",
        "gen= read_file(\"example.txt\")"
      ],
      "metadata": {
        "id": "5b-V0YEVVecH"
      },
      "execution_count": 40,
      "outputs": []
    },
    {
      "cell_type": "code",
      "source": [
        "next(gen)"
      ],
      "metadata": {
        "colab": {
          "base_uri": "https://localhost:8080/",
          "height": 36
        },
        "id": "4uZC7crhXV72",
        "outputId": "63bcf681-6c10-4e6e-9c9a-cd167bb43f8d"
      },
      "execution_count": 41,
      "outputs": [
        {
          "output_type": "execute_result",
          "data": {
            "text/plain": [
              "'Hi\\n'"
            ],
            "application/vnd.google.colaboratory.intrinsic+json": {
              "type": "string"
            }
          },
          "metadata": {},
          "execution_count": 41
        }
      ]
    },
    {
      "cell_type": "code",
      "source": [
        "next(gen)"
      ],
      "metadata": {
        "colab": {
          "base_uri": "https://localhost:8080/",
          "height": 36
        },
        "id": "fw0u_Eu3XWFF",
        "outputId": "d7dbd1b5-70ca-4725-f348-1c551edcd569"
      },
      "execution_count": 42,
      "outputs": [
        {
          "output_type": "execute_result",
          "data": {
            "text/plain": [
              "'My name is Sourav\\n'"
            ],
            "application/vnd.google.colaboratory.intrinsic+json": {
              "type": "string"
            }
          },
          "metadata": {},
          "execution_count": 42
        }
      ]
    },
    {
      "cell_type": "code",
      "source": [
        "next(gen)"
      ],
      "metadata": {
        "colab": {
          "base_uri": "https://localhost:8080/",
          "height": 36
        },
        "id": "zsaxgVs8XWPD",
        "outputId": "8bf156ae-9902-4796-badc-aaaa6e299cb6"
      },
      "execution_count": 43,
      "outputs": [
        {
          "output_type": "execute_result",
          "data": {
            "text/plain": [
              "'Im a third Year EXTC Undergrad at FCRIT Vashi'"
            ],
            "application/vnd.google.colaboratory.intrinsic+json": {
              "type": "string"
            }
          },
          "metadata": {},
          "execution_count": 43
        }
      ]
    },
    {
      "cell_type": "code",
      "source": [
        "#8. Use a lambda function in Python to sort a list of tuples based on the second element of each tuple.\n",
        "data = [(1, 4), (3, 1), (5, 9), (2, 6)]\n",
        "\n",
        "sorted_data = sorted(data, key=lambda x: x[1])\n",
        "\n",
        "print(sorted_data)"
      ],
      "metadata": {
        "colab": {
          "base_uri": "https://localhost:8080/"
        },
        "id": "Gjc39V0IVekY",
        "outputId": "2b0fc8ff-22fc-4de2-c8d1-117e28624d59"
      },
      "execution_count": 32,
      "outputs": [
        {
          "output_type": "stream",
          "name": "stdout",
          "text": [
            "[(3, 1), (1, 4), (2, 6), (5, 9)]\n"
          ]
        }
      ]
    },
    {
      "cell_type": "code",
      "source": [
        "#9. Write a Python program that uses `map()` to convert a list of temperatures from Celsius to Fahrenheit.\n",
        "\n",
        "celcius= list(map(int,input(\"Enter List of Temperatures in Celcius:\").split()))\n",
        "list(map(lambda x: (x*(9/5))+32, celcius))"
      ],
      "metadata": {
        "colab": {
          "base_uri": "https://localhost:8080/"
        },
        "id": "Nd7xpJ6vXiEX",
        "outputId": "5b139eea-3c58-470c-d576-2e0a42335678"
      },
      "execution_count": 53,
      "outputs": [
        {
          "name": "stdout",
          "output_type": "stream",
          "text": [
            "Enter List of Temperatures in Celcius:27 30 32\n"
          ]
        },
        {
          "output_type": "execute_result",
          "data": {
            "text/plain": [
              "[80.6, 86.0, 89.6]"
            ]
          },
          "metadata": {},
          "execution_count": 53
        }
      ]
    },
    {
      "cell_type": "code",
      "source": [
        "#10. Create a Python program that uses `filter()` to remove all the vowels from a given string.\n",
        "new_string= input(\"Enter a String:\")\n",
        "filtered_str= filter(lambda x: x.lower() not in (\"a\",\"i\",\"e\", 'o',\"u\"), new_string)\n",
        "print(\"\".join(filtered_str))\n"
      ],
      "metadata": {
        "colab": {
          "base_uri": "https://localhost:8080/"
        },
        "id": "CkSqld0UXiPe",
        "outputId": "6900d656-4e96-48ed-8015-f1d13e386719"
      },
      "execution_count": 64,
      "outputs": [
        {
          "output_type": "stream",
          "name": "stdout",
          "text": [
            "Enter a String:Hello World\n",
            "Hll Wrld\n"
          ]
        }
      ]
    },
    {
      "cell_type": "code",
      "source": [
        "orders = [\n",
        "    [\"Order No.\", \"Book Title and Author\", \"Quantity\", \"Price per item\"],\n",
        "    [34587, \"Learning Python, Mark Lutz\", 4, 40.95],\n",
        "    [98762, \"Programming Python, Mark Lutz\", 5, 56.80],\n",
        "    [77226, \"Head First Python, Paul Barry\", 3, 32.95],\n",
        "    [88112, \"Einführung in Python3, Bernd Klein\", 3, 24.99]\n",
        "]\n",
        "\n",
        "for row in orders:\n",
        "    print(\"{:<10} {:<40} {:<10} {:<10}\".format(row[0], row[1], row[2], row[3]))\n",
        "result = list(\n",
        "    map(\n",
        "        lambda x: (int(x[0]), int(x[2]) * int(x[3]) if int(x[2]) * int(x[3]) >= 100 else int(x[2]) * int(x[3]) + 10),\n",
        "        orders[1:]\n",
        "    )\n",
        ")\n",
        "\n",
        "print(result)"
      ],
      "metadata": {
        "colab": {
          "base_uri": "https://localhost:8080/"
        },
        "id": "fEHh2dqdXiUb",
        "outputId": "ce0a4aa2-7044-4413-ff91-87b2e4a882b4"
      },
      "execution_count": 76,
      "outputs": [
        {
          "output_type": "stream",
          "name": "stdout",
          "text": [
            "Order No.  Book Title and Author                    Quantity   Price per item\n",
            "34587      Learning Python, Mark Lutz               4          40.95     \n",
            "98762      Programming Python, Mark Lutz            5          56.8      \n",
            "77226      Head First Python, Paul Barry            3          32.95     \n",
            "88112      Einführung in Python3, Bernd Klein       3          24.99     \n",
            "[(34587, 160), (98762, 280), (77226, 106), (88112, 82)]\n"
          ]
        }
      ]
    }
  ]
}